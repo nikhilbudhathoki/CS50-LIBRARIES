{
 "cells": [
  {
   "cell_type": "code",
   "execution_count": 1,
   "id": "28247a98-3a2d-4d69-8ae8-70c59106a700",
   "metadata": {},
   "outputs": [],
   "source": [
    "import random"
   ]
  },
  {
   "cell_type": "markdown",
   "id": "8149891c-6416-4709-a813-888fc8ba6dab",
   "metadata": {},
   "source": [
    "### IT HELPS TO RANDOM , shuffle and other things for randomization"
   ]
  },
  {
   "cell_type": "code",
   "execution_count": 2,
   "id": "203b02dd-43c8-479e-b99d-fd7190716377",
   "metadata": {},
   "outputs": [],
   "source": [
    "number=random.choice([100,200,300])#choice choose any value in the list randomly"
   ]
  },
  {
   "cell_type": "code",
   "execution_count": 3,
   "id": "ff1208e6-84c0-4a4b-8fa4-c2bedd031fec",
   "metadata": {},
   "outputs": [
    {
     "name": "stdout",
     "output_type": "stream",
     "text": [
      "200\n"
     ]
    }
   ],
   "source": [
    "print(number)"
   ]
  },
  {
   "cell_type": "code",
   "execution_count": 4,
   "id": "895cd059-794f-4c9e-a579-a87c03ef48ac",
   "metadata": {},
   "outputs": [],
   "source": [
    "rps=random.choice(['rock','paper','scissor'])"
   ]
  },
  {
   "cell_type": "code",
   "execution_count": 5,
   "id": "912440f8-ba19-43fe-a100-c194878c5722",
   "metadata": {},
   "outputs": [
    {
     "name": "stdout",
     "output_type": "stream",
     "text": [
      "paper\n"
     ]
    }
   ],
   "source": [
    "print(rps)"
   ]
  },
  {
   "cell_type": "code",
   "execution_count": null,
   "id": "03b8028c-a98a-4662-aafc-c95a2684c73b",
   "metadata": {},
   "outputs": [],
   "source": []
  },
  {
   "cell_type": "markdown",
   "id": "f10fa869-0306-4861-8296-b276bc57358b",
   "metadata": {},
   "source": [
    "#### We can use from so we dont have to use random. everytime"
   ]
  },
  {
   "cell_type": "code",
   "execution_count": 6,
   "id": "0cc59130-18a0-4de9-97eb-de2f58c81410",
   "metadata": {},
   "outputs": [],
   "source": [
    "from random import choice"
   ]
  },
  {
   "cell_type": "code",
   "execution_count": 7,
   "id": "8596f75a-d02e-4004-bde5-ba6588d9b131",
   "metadata": {},
   "outputs": [],
   "source": [
    "numbers=choice([100,200,300])"
   ]
  },
  {
   "cell_type": "code",
   "execution_count": 8,
   "id": "2b0a0e0c-cc61-4b6e-8b9d-7dd7a9be7612",
   "metadata": {},
   "outputs": [
    {
     "data": {
      "text/plain": [
       "300"
      ]
     },
     "execution_count": 8,
     "metadata": {},
     "output_type": "execute_result"
    }
   ],
   "source": [
    "numbers"
   ]
  },
  {
   "cell_type": "code",
   "execution_count": null,
   "id": "4d994950-761e-47ec-8872-287f55bc7758",
   "metadata": {},
   "outputs": [],
   "source": []
  },
  {
   "cell_type": "markdown",
   "id": "0322aafa-f5c1-4839-9701-e270c8b4e600",
   "metadata": {},
   "source": [
    "#### Randint is another function of random to choose random integers from given values borders inclusively"
   ]
  },
  {
   "cell_type": "code",
   "execution_count": 9,
   "id": "8f60c119-0738-45f1-8941-2633d60edc88",
   "metadata": {},
   "outputs": [
    {
     "name": "stdout",
     "output_type": "stream",
     "text": [
      "20\n"
     ]
    }
   ],
   "source": [
    "print(random.randint(10,20))"
   ]
  },
  {
   "cell_type": "code",
   "execution_count": null,
   "id": "d5272987-16ab-4cd7-9e60-51b01942e9e2",
   "metadata": {},
   "outputs": [],
   "source": []
  },
  {
   "cell_type": "markdown",
   "id": "eb8dff18-5dd0-4dee-a7cd-705e086ee732",
   "metadata": {},
   "source": [
    "### Shuffle can be used to change order of list or any list of values"
   ]
  },
  {
   "cell_type": "markdown",
   "id": "e3e1af2e-e14f-46fd-99f5-c6fb08b22905",
   "metadata": {},
   "source": [
    "#### It does give any variable it just change the variable itself"
   ]
  },
  {
   "cell_type": "code",
   "execution_count": 10,
   "id": "9b72d8c5-90b4-4569-b361-cae34ae129d9",
   "metadata": {},
   "outputs": [],
   "source": [
    "order=[1,2,3,4]"
   ]
  },
  {
   "cell_type": "code",
   "execution_count": 11,
   "id": "3c354d8e-f374-4bc1-9641-14207a25112b",
   "metadata": {},
   "outputs": [],
   "source": [
    "random.shuffle(order)"
   ]
  },
  {
   "cell_type": "code",
   "execution_count": 12,
   "id": "4f2d4c27-6c19-496b-972c-3d7270ca3826",
   "metadata": {},
   "outputs": [
    {
     "data": {
      "text/plain": [
       "[4, 2, 1, 3]"
      ]
     },
     "execution_count": 12,
     "metadata": {},
     "output_type": "execute_result"
    }
   ],
   "source": [
    "order"
   ]
  },
  {
   "cell_type": "code",
   "execution_count": null,
   "id": "e9c6e420-a5a8-4f51-b524-5d74c723bac4",
   "metadata": {},
   "outputs": [],
   "source": []
  },
  {
   "cell_type": "code",
   "execution_count": null,
   "id": "e1a9efde-5ec0-4351-98fd-159ade0bad5f",
   "metadata": {},
   "outputs": [],
   "source": []
  },
  {
   "cell_type": "code",
   "execution_count": null,
   "id": "6a52837b-5975-4c72-b743-8c3a81fa51e8",
   "metadata": {},
   "outputs": [],
   "source": []
  },
  {
   "cell_type": "markdown",
   "id": "155027fe-178c-46ed-93e0-73b45c1bc923",
   "metadata": {},
   "source": [
    "## STATISTICS MODEULE TO CALCULATE MEAN , MEDIAN ETC"
   ]
  },
  {
   "cell_type": "code",
   "execution_count": 13,
   "id": "19dfe554-fc42-4310-a80c-3e95932e7d71",
   "metadata": {},
   "outputs": [],
   "source": [
    "import statistics as stat"
   ]
  },
  {
   "cell_type": "code",
   "execution_count": 14,
   "id": "f89324c2-7f15-4544-8044-eb5f4f4bf911",
   "metadata": {},
   "outputs": [
    {
     "data": {
      "text/plain": [
       "3"
      ]
     },
     "execution_count": 14,
     "metadata": {},
     "output_type": "execute_result"
    }
   ],
   "source": [
    "stat.mean([1,2,3,4,5])"
   ]
  },
  {
   "cell_type": "code",
   "execution_count": null,
   "id": "5f8dcd59-2dcd-4f3e-8c8f-a8ae99a9a676",
   "metadata": {},
   "outputs": [],
   "source": []
  },
  {
   "cell_type": "markdown",
   "id": "2f559d46-dce0-4e48-a598-c5ec5b6d83b4",
   "metadata": {},
   "source": [
    "COMMAND LINE ARGUEMENT"
   ]
  },
  {
   "cell_type": "code",
   "execution_count": 15,
   "id": "17300973-1486-4e16-b4f5-d33c3d84944a",
   "metadata": {},
   "outputs": [],
   "source": [
    "import sys"
   ]
  },
  {
   "cell_type": "code",
   "execution_count": 16,
   "id": "af90859a-b3a0-4813-9445-3ea2d09eaa5d",
   "metadata": {},
   "outputs": [
    {
     "name": "stdout",
     "output_type": "stream",
     "text": [
      "My name is  -f\n"
     ]
    }
   ],
   "source": [
    "print(\"My name is \" , sys.argv[1])"
   ]
  },
  {
   "cell_type": "markdown",
   "id": "592fc257-aebb-4d77-820f-14c4004da824",
   "metadata": {},
   "source": [
    "#### sys.argv print the value given at the time of execution like python codename.py NIkhil it will print 'My name is NIkhil'"
   ]
  },
  {
   "cell_type": "markdown",
   "id": "9364915f-7564-4d66-afc7-be8ce7fb83c6",
   "metadata": {},
   "source": [
    "#### here codename.py is sys.argv[0]"
   ]
  },
  {
   "cell_type": "code",
   "execution_count": 17,
   "id": "26cf3c5b-c807-4a61-9bf6-1575bd55938c",
   "metadata": {},
   "outputs": [
    {
     "name": "stdout",
     "output_type": "stream",
     "text": [
      "My name is  -f\n"
     ]
    }
   ],
   "source": [
    "import sys#we can not usd sys and arg and there is no command arguement in jupyter notebook\n",
    "try:\n",
    "    print(\"My name is \" , sys.argv[1])#using try to print if arguement is given\n",
    "except IndexError:\n",
    "    print(\"Few arguement\")#as index error is given when we dont give arguement we can warn about it "
   ]
  },
  {
   "cell_type": "markdown",
   "id": "e43a525c-d8ae-4a05-8386-85a47c28ede3",
   "metadata": {},
   "source": [
    "#### conditional to warn user"
   ]
  },
  {
   "cell_type": "code",
   "execution_count": 18,
   "id": "a52cc8d0-2c21-4ccc-ace6-6d30884318b3",
   "metadata": {},
   "outputs": [
    {
     "name": "stdout",
     "output_type": "stream",
     "text": [
      "Too much arguement\n"
     ]
    }
   ],
   "source": [
    "import sys#we can not usd sys and arg and there is no command arguement in jupyter notebook\n",
    "if len(sys.argv)>2:#if the length is greater than 2 give wrning\n",
    "    print(\"Too much arguement\")\n",
    "elif len(sys.argv)<2:\n",
    "    print(\"Too much less arguement\")\n",
    "else:\n",
    "    print(\"hello My name is \",sys.argv[1])#if length is equal to 2 print the value"
   ]
  },
  {
   "cell_type": "code",
   "execution_count": null,
   "id": "399c2140-2869-4caf-9c42-2ada2ded63fc",
   "metadata": {},
   "outputs": [],
   "source": []
  },
  {
   "cell_type": "code",
   "execution_count": null,
   "id": "e4014e7b-8a8f-47c3-ac6d-8cbdaff44818",
   "metadata": {},
   "outputs": [],
   "source": []
  },
  {
   "cell_type": "code",
   "execution_count": 20,
   "id": "3ee6972e-c3ff-4b16-8708-c6f3e4018faa",
   "metadata": {},
   "outputs": [
    {
     "name": "stdout",
     "output_type": "stream",
     "text": [
      "Collecting cowsay\n",
      "  Downloading cowsay-6.1-py3-none-any.whl.metadata (5.6 kB)\n",
      "Downloading cowsay-6.1-py3-none-any.whl (25 kB)\n",
      "Installing collected packages: cowsay\n",
      "Successfully installed cowsay-6.1\n",
      "Note: you may need to restart the kernel to use updated packages.\n"
     ]
    }
   ],
   "source": [
    "pip install cowsay"
   ]
  },
  {
   "cell_type": "code",
   "execution_count": 21,
   "id": "cf9f3d8b-d623-4df9-8973-fc3b574ad37a",
   "metadata": {},
   "outputs": [],
   "source": [
    "import cowsay#we can not usd sys and arg and there is no command arguement in jupyter notebook"
   ]
  },
  {
   "cell_type": "code",
   "execution_count": 23,
   "id": "088d56d2-2feb-466b-b250-43a2fc488b4d",
   "metadata": {},
   "outputs": [],
   "source": [
    "if len(sys.argv)==2:#we can not usd sys and arg and there is no command arguement in jupyter notebook\n",
    "    cowsay.cow(\"Hello\",sys.argv[1])"
   ]
  },
  {
   "cell_type": "code",
   "execution_count": null,
   "id": "92eb4ab2-83c3-46f3-82e9-10d4a1478170",
   "metadata": {},
   "outputs": [],
   "source": []
  },
  {
   "cell_type": "code",
   "execution_count": null,
   "id": "2cf9c6c7-7618-44c5-9ff6-ec30942500c2",
   "metadata": {},
   "outputs": [],
   "source": []
  },
  {
   "cell_type": "markdown",
   "id": "256805c9-6c4e-4c61-9485-02828c31d905",
   "metadata": {},
   "source": [
    "API"
   ]
  },
  {
   "cell_type": "code",
   "execution_count": 25,
   "id": "52734cc0-8861-4009-ba24-a3f2ef4c3379",
   "metadata": {},
   "outputs": [
    {
     "name": "stdout",
     "output_type": "stream",
     "text": [
      "Requirement already satisfied: requests in c:\\users\\lenovo\\anaconda3\\envs\\nick\\lib\\site-packages (2.32.3)\n",
      "Requirement already satisfied: charset-normalizer<4,>=2 in c:\\users\\lenovo\\anaconda3\\envs\\nick\\lib\\site-packages (from requests) (3.3.2)\n",
      "Requirement already satisfied: idna<4,>=2.5 in c:\\users\\lenovo\\anaconda3\\envs\\nick\\lib\\site-packages (from requests) (3.7)\n",
      "Requirement already satisfied: urllib3<3,>=1.21.1 in c:\\users\\lenovo\\anaconda3\\envs\\nick\\lib\\site-packages (from requests) (2.2.2)\n",
      "Requirement already satisfied: certifi>=2017.4.17 in c:\\users\\lenovo\\anaconda3\\envs\\nick\\lib\\site-packages (from requests) (2024.7.4)\n",
      "Note: you may need to restart the kernel to use updated packages.\n"
     ]
    }
   ],
   "source": [
    "pip install requests"
   ]
  },
  {
   "cell_type": "code",
   "execution_count": 26,
   "id": "802dad12-dd7f-4978-a93f-f6897d62a1e2",
   "metadata": {},
   "outputs": [],
   "source": [
    "import requests"
   ]
  },
  {
   "cell_type": "code",
   "execution_count": null,
   "id": "60cc6830-8d41-4cca-81e8-e60ae0a5b7ee",
   "metadata": {},
   "outputs": [],
   "source": []
  },
  {
   "cell_type": "code",
   "execution_count": 28,
   "id": "b1ce3826-4c29-4654-9d5d-bf02d47632ee",
   "metadata": {},
   "outputs": [
    {
     "ename": "SystemExit",
     "evalue": "",
     "output_type": "error",
     "traceback": [
      "An exception has occurred, use %tb to see the full traceback.\n",
      "\u001b[1;31mSystemExit\u001b[0m\n"
     ]
    }
   ],
   "source": [
    "import requests#we can not usd sys and arg and there is no command arguement in jupyter notebook\n",
    "import sys\n",
    "import json\n",
    "if len(sys.argv)!=2:\n",
    "    sys.exit()\n",
    "response=requests.get(\"https://itunes.apple.com/search?term=\"+sys.argv[1]+\"&entity=musicTrack&limit=1\")\n",
    "print(json.dumps(response.json(), indent=2))\n"
   ]
  },
  {
   "cell_type": "code",
   "execution_count": null,
   "id": "6708c060-89d3-48e0-ba83-4f74d6eb88c6",
   "metadata": {},
   "outputs": [],
   "source": []
  },
  {
   "cell_type": "code",
   "execution_count": 29,
   "id": "beb76431-4bc7-4241-95a6-493574543d23",
   "metadata": {},
   "outputs": [
    {
     "ename": "SystemExit",
     "evalue": "",
     "output_type": "error",
     "traceback": [
      "An exception has occurred, use %tb to see the full traceback.\n",
      "\u001b[1;31mSystemExit\u001b[0m\n"
     ]
    }
   ],
   "source": [
    "import requests\n",
    "import sys#we can not usd sys and arg and there is no command arguement in jupyter notebook\n",
    "import json\n",
    "if len(sys.argv)!=2:\n",
    "    sys.exit()\n",
    "response=requests.get(\"https://itunes.apple.com/search?term=\"+sys.argv[1])\n",
    "o=response.json()\n",
    "for result in o[\"results\"]:\n",
    "    print(result[\"trackName\"])"
   ]
  },
  {
   "cell_type": "code",
   "execution_count": null,
   "id": "69e958ac-8a96-4f87-b9ba-7ccf4137c7e3",
   "metadata": {},
   "outputs": [],
   "source": [
    "#if __name__==\"__main__\":This will run the main when called the main only when called from another program to this function\n",
    "        #main() If we dont  use this and we call another function , main will be run too \n"
   ]
  }
 ],
 "metadata": {
  "kernelspec": {
   "display_name": "Python 3 (ipykernel)",
   "language": "python",
   "name": "python3"
  },
  "language_info": {
   "codemirror_mode": {
    "name": "ipython",
    "version": 3
   },
   "file_extension": ".py",
   "mimetype": "text/x-python",
   "name": "python",
   "nbconvert_exporter": "python",
   "pygments_lexer": "ipython3",
   "version": "3.8.19"
  }
 },
 "nbformat": 4,
 "nbformat_minor": 5
}
